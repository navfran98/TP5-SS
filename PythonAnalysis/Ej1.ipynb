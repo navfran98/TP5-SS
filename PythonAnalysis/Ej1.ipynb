{
 "cells": [
  {
   "cell_type": "code",
   "execution_count": 257,
   "metadata": {},
   "outputs": [],
   "source": [
    "import pandas as pd\n",
    "import matplotlib.pyplot as plt\n",
    "import numpy as np\n",
    "import scipy.stats as sp\n",
    "import scipy.interpolate as spi\n",
    "import math\n",
    "import matplotlib.figure as fig\n",
    "from scipy import stats"
   ]
  },
  {
   "cell_type": "code",
   "execution_count": 258,
   "metadata": {},
   "outputs": [],
   "source": [
    "data1 = pd.read_csv(\"../FilesEj1/OutputEj1_1.csv\")\n",
    "data2 = pd.read_csv(\"../FilesEj1/OutputEj1_2.csv\")\n",
    "data3 = pd.read_csv(\"../FilesEj1/OutputEj1_3.csv\")\n",
    "data4 = pd.read_csv(\"../FilesEj1/OutputEj1_4.csv\")"
   ]
  },
  {
   "cell_type": "code",
   "execution_count": 259,
   "metadata": {},
   "outputs": [
    {
     "name": "stdout",
     "output_type": "stream",
     "text": [
      "0.1\n"
     ]
    },
    {
     "data": {
      "text/plain": [
       "<matplotlib.legend.Legend at 0x13e6680d0>"
      ]
     },
     "execution_count": 259,
     "metadata": {},
     "output_type": "execute_result"
    },
    {
     "data": {
      "image/png": "[encoded data removed]",
      "text/plain": [
       "<Figure size 432x288 with 1 Axes>"
      ]
     },
     "metadata": {
      "needs_background": "light"
     },
     "output_type": "display_data"
    }
   ],
   "source": [
    "dt = data1['Dt'][1]\n",
    "print(dt)\n",
    "\n",
    "counts1 = data1['N']/dt\n",
    "counts2 = data2['N']/dt\n",
    "counts3 = data3['N']/dt\n",
    "counts4 = data4['N']/dt\n",
    "plt.scatter(data1['Dt'], counts1, label = \"D1\")\n",
    "plt.scatter(data2['Dt'], counts2, label = \"D2\")\n",
    "plt.scatter(data3['Dt'], counts3, label = \"D3\")\n",
    "plt.scatter(data4['Dt'], counts4, label = \"D4\")\n",
    "plt.legend()\n"
   ]
  },
  {
   "cell_type": "code",
   "execution_count": 260,
   "metadata": {},
   "outputs": [],
   "source": [
    "#calcular los promedios de caudales para cada D\n",
    "def get_values(array):\n",
    "    caudal_promedio = array.mean()\n",
    "    max = array.max()\n",
    "    min = array.min()\n",
    "    return caudal_promedio, max, min"
   ]
  },
  {
   "cell_type": "code",
   "execution_count": 262,
   "metadata": {},
   "outputs": [
    {
     "name": "stdout",
     "output_type": "stream",
     "text": [
      "81.5\n",
      "128.16666666666666\n",
      "178.83333333333334\n",
      "245.16666666666666\n"
     ]
    },
    {
     "data": {
      "text/plain": [
       "<ErrorbarContainer object of 3 artists>"
      ]
     },
     "execution_count": 262,
     "metadata": {},
     "output_type": "execute_result"
    },
    {
     "data": {
      "image/png": "[encoded data removed]",
      "text/plain": [
       "<Figure size 432x288 with 1 Axes>"
      ]
     },
     "metadata": {
      "needs_background": "light"
     },
     "output_type": "display_data"
    }
   ],
   "source": [
    "cp1, max1, min1 = get_values(counts1)\n",
    "cp2, max2, min2 = get_values(counts2)\n",
    "cp3, max3, min3 = get_values(counts3)\n",
    "cp4, max4, min4 = get_values(counts4)\n",
    "print(cp1)\n",
    "print(cp2)\n",
    "print(cp3)\n",
    "print(cp4)\n",
    "array_x = [0.15, 0.18, 0.21, 0.24]\n",
    "array_y = [cp1, cp2, cp3, cp4]\n",
    "y_errs = [max1-min1, max2-min2, max3-min3, max4-min4]\n",
    "fig, ax = plt.subplots()\n",
    "ax.errorbar(np.array(array_x), np.array(array_y), yerr=np.array(y_errs)/2, capsize=4, color=\"orangered\", ecolor=\"steelblue\")"
   ]
  },
  {
   "cell_type": "code",
   "execution_count": 263,
   "metadata": {},
   "outputs": [],
   "source": [
    "def getMinTime(array_t, array_n):\n",
    "    for i in range(len(array_n)):\n",
    "        if array_n[i]/dt > cp1:\n",
    "            return array_t[i]"
   ]
  },
  {
   "cell_type": "code",
   "execution_count": 264,
   "metadata": {},
   "outputs": [
    {
     "name": "stdout",
     "output_type": "stream",
     "text": [
      "0.3\n",
      "0.2\n",
      "0.2\n",
      "0.2\n"
     ]
    }
   ],
   "source": [
    "min_time_1 = getMinTime(data1['Dt'], data1['N'])\n",
    "min_time_2 = getMinTime(data2['Dt'], data2['N'])\n",
    "min_time_3 = getMinTime(data3['Dt'], data3['N'])\n",
    "min_time_4 = getMinTime(data4['Dt'], data4['N'])\n",
    "print(min_time_1)\n",
    "print(min_time_2)\n",
    "print(min_time_3)\n",
    "print(min_time_4)"
   ]
  },
  {
   "cell_type": "code",
   "execution_count": 276,
   "metadata": {},
   "outputs": [],
   "source": [
    "def getBeverloo(c, i):\n",
    "    np = 300/0.4\n",
    "    return np * math.sqrt(9.8) * (array_x[i] - (c * 0.0124))**1.5"
   ]
  },
  {
   "cell_type": "code",
   "execution_count": 277,
   "metadata": {},
   "outputs": [
    {
     "name": "stdout",
     "output_type": "stream",
     "text": [
      "81.5\n",
      "74.6921344774669\n",
      "128.16666666666666\n",
      "110.55813101169899\n",
      "178.83333333333334\n",
      "150.8276092524177\n",
      "245.16666666666666\n",
      "195.0629182925345\n"
     ]
    }
   ],
   "source": [
    "print(array_y[0])\n",
    "print(getBeverloo(4,0))\n",
    "print(array_y[1])\n",
    "print(getBeverloo(4,1))\n",
    "print(array_y[2])\n",
    "print(getBeverloo(4,2))\n",
    "print(array_y[3])\n",
    "print(getBeverloo(4,3))"
   ]
  },
  {
   "cell_type": "code",
   "execution_count": 286,
   "metadata": {},
   "outputs": [
    {
     "name": "stdout",
     "output_type": "stream",
     "text": [
      "2.4247\n"
     ]
    },
    {
     "data": {
      "text/plain": [
       "<matplotlib.collections.PathCollection at 0x13eb6ce50>"
      ]
     },
     "execution_count": 286,
     "metadata": {},
     "output_type": "execute_result"
    },
    {
     "data": {
      "image/png": "[encoded data removed]",
      "text/plain": [
       "<Figure size 432x288 with 1 Axes>"
      ]
     },
     "metadata": {
      "needs_background": "light"
     },
     "output_type": "display_data"
    }
   ],
   "source": [
    "Ds = []\n",
    "ecm = []\n",
    "c = []\n",
    "min_sum = 99999999999\n",
    "min_C = 0\n",
    "paso = 1/10000  # 0.0001\n",
    "for i in range(2,100000):\n",
    "    c.append(paso * i)\n",
    "    sum = 0\n",
    "    for j in range(len(array_x)):\n",
    "        # sum += (array_y[j] - (2 *(array_x[j] / 1000) * paso * i))**2\n",
    "        sum += (array_y[j] - getBeverloo(paso*i, j))**2\n",
    "    sum = sum/4\n",
    "    ecm.append(sum)\n",
    "    if sum < min_sum:\n",
    "        min_sum = sum\n",
    "        min_C = paso*i\n",
    "print(min_C)\n",
    "\n",
    "plt.plot(c, ecm)\n",
    "plt.xlabel(\"C\")\n",
    "plt.ylabel(\"E(C)\")\n",
    "plt.scatter([min_C], [min_sum])"
   ]
  },
  {
   "cell_type": "code",
   "execution_count": 287,
   "metadata": {},
   "outputs": [
    {
     "name": "stdout",
     "output_type": "stream",
     "text": [
      "2.4247000000008962\n"
     ]
    },
    {
     "data": {
      "text/plain": [
       "<matplotlib.collections.PathCollection at 0x13c89eac0>"
      ]
     },
     "execution_count": 287,
     "metadata": {},
     "output_type": "execute_result"
    },
    {
     "data": {
      "image/png": "[encoded data removed]",
      "text/plain": [
       "<Figure size 432x288 with 1 Axes>"
      ]
     },
     "metadata": {
      "needs_background": "light"
     },
     "output_type": "display_data"
    }
   ],
   "source": [
    "Ds = []\n",
    "ecm = []\n",
    "c = []\n",
    "min_sum = 99999999999\n",
    "min_C = 0\n",
    "paso = 1/10000\n",
    "i = 2\n",
    "while i<3:\n",
    "    c.append(i)\n",
    "    sum = 0\n",
    "    for j in range(len(array_x)):\n",
    "        # sum += (array_y[j] - (2 *(array_x[j] / 1000) * paso * i))**2\n",
    "        sum += (array_y[j] - getBeverloo(i, j))**2\n",
    "    sum = sum/4\n",
    "    ecm.append(sum)\n",
    "    if sum < min_sum:\n",
    "        min_sum = sum\n",
    "        min_C = i\n",
    "    i+=paso\n",
    "print(min_C)\n",
    "\n",
    "plt.plot(c, ecm)\n",
    "plt.xlabel(\"C\")\n",
    "plt.ylabel(\"E(C)\")\n",
    "plt.scatter([min_C], [min_sum])"
   ]
  }
 ],
 "metadata": {
  "interpreter": {
   "hash": "b0fa6594d8f4cbf19f97940f81e996739fb7646882a419484c72d19e05852a7e"
  },
  "kernelspec": {
   "display_name": "Python 3.9.12 64-bit",
   "language": "python",
   "name": "python3"
  },
  "language_info": {
   "codemirror_mode": {
    "name": "ipython",
    "version": 3
   },
   "file_extension": ".py",
   "mimetype": "text/x-python",
   "name": "python",
   "nbconvert_exporter": "python",
   "pygments_lexer": "ipython3",
   "version": "3.9.12"
  },
  "orig_nbformat": 4
 },
 "nbformat": 4,
 "nbformat_minor": 2
}
